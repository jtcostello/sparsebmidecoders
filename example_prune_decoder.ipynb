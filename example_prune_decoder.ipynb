{
 "cells": [
  {
   "cell_type": "markdown",
   "metadata": {},
   "source": [
    "### Example for pruning a decoder\n",
    "\n",
    "Prior to running this, make sure you have the [NLB MC_RTT dataset](https://dandiarchive.org/dandiset/000129) downloaded and select the file path in the `nlb_data_path` variable below.\n",
    "\n",
    "Takes about 2min to run on an M1 CPU."
   ]
  },
  {
   "cell_type": "code",
   "execution_count": 2,
   "metadata": {},
   "outputs": [
    {
     "name": "stdout",
     "output_type": "stream",
     "text": [
      "Using device: cpu\n"
     ]
    }
   ],
   "source": [
    "import torch\n",
    "import torch.nn\n",
    "import torch.optim as optim\n",
    "import matplotlib.pyplot as plt\n",
    "import numpy as np\n",
    "import pandas as pd\n",
    "import seaborn as sns\n",
    "\n",
    "import sparsebmi.utils as utils\n",
    "import sparsebmi.models as models\n",
    "import sparsebmi.config as config\n",
    "import sparsebmi.training as training\n",
    "import sparsebmi.pruning as pruning\n",
    "import sparsebmi.data_loading as data_loading\n",
    "\n",
    "%load_ext autoreload\n",
    "%autoreload 2\n",
    "\n",
    "device = utils.get_torch_device()\n",
    "print(f\"Using device: {device}\")"
   ]
  },
  {
   "cell_type": "markdown",
   "metadata": {},
   "source": [
    "Configuration options"
   ]
  },
  {
   "cell_type": "code",
   "execution_count": null,
   "metadata": {},
   "outputs": [],
   "source": [
    "nlb_data_path = '.../000129/sub-Indy' # your path here\n",
    "\n",
    "# which percent prunings to run\n",
    "prune_pcts = [0, 50, 90, 95, 98, 99]\n",
    "\n",
    "# which model to use\n",
    "model_type = 'rnn'      # tcn or lstm or rnn\n",
    "\n",
    "verbose_train = False"
   ]
  },
  {
   "cell_type": "markdown",
   "metadata": {},
   "source": [
    "Load data, create model, train, prune, and test"
   ]
  },
  {
   "cell_type": "code",
   "execution_count": 4,
   "metadata": {},
   "outputs": [
    {
     "name": "stdout",
     "output_type": "stream",
     "text": [
      "Train: (14193, 130) (14193, 4)\n",
      "Val: (2027, 130) (2027, 4)\n",
      "Test: (4056, 130) (4056, 4)\n"
     ]
    },
    {
     "data": {
      "text/plain": [
       "RNN(\n",
       "  (rnn): RNN(130, 256, batch_first=True)\n",
       "  (fc): Linear(in_features=256, out_features=4, bias=True)\n",
       ")"
      ]
     },
     "execution_count": 4,
     "metadata": {},
     "output_type": "execute_result"
    }
   ],
   "source": [
    "# get config\n",
    "if model_type == 'tcn':\n",
    "    cfg = config.Config().add_config([config.default_cfg_data, config.cfg_tcn_nlb])\n",
    "\n",
    "elif model_type == 'lstm':\n",
    "    cfg = config.Config().add_config([config.default_cfg_data, config.cfg_lstm_nlb])\n",
    "    \n",
    "elif model_type == 'rnn':\n",
    "    cfg = config.Config().add_config([config.default_cfg_data, config.cfg_rnn_nlb])\n",
    "\n",
    "# load data\n",
    "num_inputs = 130\n",
    "num_outputs = 4\n",
    "loader_train, loader_val, loader_test = data_loading.load_nlb(\n",
    "    nlb_dataset_path=nlb_data_path,\n",
    "    binsize_ms=cfg.binsize_ms,\n",
    "    seq_len=cfg.hist_bins,\n",
    "    batch_size=cfg.batch_size,\n",
    "    train_val_test=cfg.train_val_test_split,\n",
    "    pred_type=cfg.pred_type,\n",
    "    normalize_x=cfg.normalize_x,\n",
    "    normalize_y=cfg.normalize_y\n",
    ")\n",
    "\n",
    "# create model\n",
    "if model_type == 'tcn':\n",
    "    model = models.TCN(num_inputs, cfg.hist_bins, cfg.conv_num_filts, cfg.layer_size_list, num_outputs, cfg.dropout_p)\n",
    "elif model_type == 'lstm':\n",
    "    model = models.RNN(num_inputs, cfg.hidden_size, num_outputs, cfg.num_layers, \n",
    "                        rnn_type='lstm', drop_prob=cfg.dropout_p, dropout_input=0, device=device)\n",
    "elif model_type == 'rnn':\n",
    "    model = models.RNN(num_inputs, cfg.hidden_size, num_outputs, cfg.num_layers, \n",
    "                        rnn_type='rnn', drop_prob=cfg.dropout_p, dropout_input=0, device=device)\n",
    "model.to(device=device)"
   ]
  },
  {
   "cell_type": "code",
   "execution_count": 5,
   "metadata": {},
   "outputs": [
    {
     "name": "stdout",
     "output_type": "stream",
     "text": [
      "\n",
      "\n",
      "starting pruning from 0% to 0%...\n",
      "validation corr = [0.81136294 0.87960588 0.81692772 0.85550249], mse = 0.28248175978660583\n",
      "\n",
      "\n",
      "starting pruning from 0% to 50%...\n",
      "validation corr = [0.78901819 0.87914535 0.80590553 0.86560562], mse = 0.2841881215572357\n",
      "\n",
      "\n",
      "starting pruning from 50% to 90%...\n",
      "validation corr = [0.80720734 0.89413323 0.81800075 0.87157604], mse = 0.2716754078865051\n",
      "\n",
      "\n",
      "starting pruning from 90% to 95%...\n",
      "validation corr = [0.81485198 0.86533493 0.81693712 0.85988021], mse = 0.2903801500797272\n",
      "\n",
      "\n",
      "starting pruning from 95% to 98%...\n",
      "validation corr = [0.80170103 0.86005888 0.78915725 0.84494738], mse = 0.3037645220756531\n",
      "\n",
      "\n",
      "starting pruning from 98% to 99%...\n",
      "validation corr = [0.79411377 0.84713881 0.73403102 0.80862379], mse = 0.354372501373291\n",
      "\n",
      "\n",
      " Final percent pruned = 98.49\n"
     ]
    }
   ],
   "source": [
    "prune_pcts_rewind = [0] + prune_pcts    # evaluate the unpruned model as well\n",
    "\n",
    "loss_fn = torch.nn.MSELoss()\n",
    "\n",
    "# train/prune/rewind (the function handles creating the optimizer and pruner)\n",
    "_, prune_vals, trained_models = training.train_prune_rewind_model(model, prune_pcts_rewind, loader_train, loader_val, loss_fn, cfg, device=device)"
   ]
  },
  {
   "cell_type": "code",
   "execution_count": 6,
   "metadata": {},
   "outputs": [
    {
     "name": "stdout",
     "output_type": "stream",
     "text": [
      "Prune pct: 0, Test corr: [0.7773942  0.83054269 0.84882597 0.83609913], Test MSE: 0.36089587211608887\n",
      "Prune pct: 50, Test corr: [0.76849391 0.83930993 0.84280263 0.83388022], Test MSE: 0.3525795638561249\n",
      "Prune pct: 90, Test corr: [0.79846083 0.84661961 0.85341636 0.85371046], Test MSE: 0.32550764083862305\n",
      "Prune pct: 95, Test corr: [0.81435447 0.85510366 0.87360244 0.85961128], Test MSE: 0.3014422357082367\n",
      "Prune pct: 98, Test corr: [0.80475367 0.85177912 0.85094433 0.84058324], Test MSE: 0.3235800564289093\n",
      "Prune pct: 99, Test corr: [0.75629086 0.82627048 0.79242879 0.81897602], Test MSE: 0.39704373478889465\n"
     ]
    }
   ],
   "source": [
    "# get test performance\n",
    "\n",
    "resultsdflist = []    \n",
    "for prune_pct, model in zip(prune_vals, trained_models):\n",
    "    model.eval().to(device)\n",
    "    test_corr, test_mse = training.eval_model(model, loader_test, device=device)\n",
    "    print(f'Prune pct: {prune_pct}, Test corr: {test_corr}, Test MSE: {test_mse}')\n",
    "\n",
    "    # calc actual prune pct (create a dummy pruner to finalize the pruning masks)\n",
    "    pruner = pruning.ModelPruner(model, model.get_pruning_params())\n",
    "    pruner.finalize()\n",
    "    actual_prune_pct = pruning.get_percent_pruned(model, verbose=False)\n",
    "\n",
    "    # save\n",
    "    nonzero_weights, total_weights = pruning.count_non_zero_weights(model)\n",
    "    thisresult = {\n",
    "        'desired_prune_pct': [prune_pct],\n",
    "        'actual_prune_pct': [actual_prune_pct],\n",
    "        'num_params': [total_weights],\n",
    "        'num_nonzero_params': [nonzero_weights],\n",
    "        'corr': [test_corr],\n",
    "        'avgcorr': [np.mean(test_corr)],\n",
    "        'mse': [test_mse],\n",
    "        'prune_type': ['prune_rewind'],\n",
    "        'model_type': [model_type],\n",
    "    }\n",
    "    resultsdflist.append(pd.DataFrame(thisresult))\n",
    "\n",
    "\n",
    "resultsdf = pd.concat(resultsdflist)"
   ]
  },
  {
   "cell_type": "markdown",
   "metadata": {},
   "source": [
    "Plot MSE vs number of parameters"
   ]
  },
  {
   "cell_type": "code",
   "execution_count": 14,
   "metadata": {},
   "outputs": [
    {
     "data": {
      "image/png": "[encoded data removed]",
      "text/plain": [
       "<Figure size 640x480 with 1 Axes>"
      ]
     },
     "metadata": {},
     "output_type": "display_data"
    }
   ],
   "source": [
    "\n",
    "errbar = 'se'\n",
    "kwargs = {'alpha': 0.8, 'marker': 'o', 'markersize': 4, 'linewidth': 1.5, 'markeredgewidth': 0}\n",
    "\n",
    "xvar = 'num_nonzero_params'\n",
    "yvar = 'mse'\n",
    "\n",
    "sns.lineplot(data=resultsdf, x=xvar, y=yvar, errorbar=errbar, **kwargs)\n",
    "\n",
    "plt.xscale('log')\n",
    "plt.ylim([0, 0.6])\n",
    "plt.ylabel('← MSE \\n(normalized units)', fontweight='bold')\n",
    "plt.xlabel('Number of parameters', fontweight='bold')\n",
    "plt.show()"
   ]
  }
 ],
 "metadata": {
  "kernelspec": {
   "display_name": "bmi_dec2022",
   "language": "python",
   "name": "python3"
  },
  "language_info": {
   "codemirror_mode": {
    "name": "ipython",
    "version": 3
   },
   "file_extension": ".py",
   "mimetype": "text/x-python",
   "name": "python",
   "nbconvert_exporter": "python",
   "pygments_lexer": "ipython3",
   "version": "3.9.15"
  }
 },
 "nbformat": 4,
 "nbformat_minor": 2
}
