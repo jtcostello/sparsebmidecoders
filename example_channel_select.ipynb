{
 "cells": [
  {
   "cell_type": "markdown",
   "metadata": {},
   "source": [
    "### Example using pruning for channel selection\n",
    "\n",
    "Prior to running this, make sure you have the [NLB MC_RTT dataset](https://dandiarchive.org/dandiset/000129) downloaded and select the file path in the `nlb_data_path` variable below.\n",
    "\n",
    "Takes about 10min to run on an M1 CPU."
   ]
  },
  {
   "cell_type": "code",
   "execution_count": 1,
   "metadata": {},
   "outputs": [
    {
     "name": "stdout",
     "output_type": "stream",
     "text": [
      "Using device: cpu\n"
     ]
    }
   ],
   "source": [
    "import torch\n",
    "import torch.nn\n",
    "import torch.optim as optim\n",
    "import matplotlib.pyplot as plt\n",
    "import numpy as np\n",
    "import pandas as pd\n",
    "import seaborn as sns\n",
    "\n",
    "import sparsebmi.utils as utils\n",
    "import sparsebmi.models as models\n",
    "import sparsebmi.config as config\n",
    "import sparsebmi.training as training\n",
    "import sparsebmi.channelselect as channelselect\n",
    "import sparsebmi.data_loading as data_loading\n",
    "\n",
    "%load_ext autoreload\n",
    "%autoreload 2\n",
    "\n",
    "device = utils.get_torch_device()\n",
    "print(f\"Using device: {device}\")"
   ]
  },
  {
   "cell_type": "markdown",
   "metadata": {},
   "source": [
    "Configuration options"
   ]
  },
  {
   "cell_type": "code",
   "execution_count": null,
   "metadata": {},
   "outputs": [],
   "source": [
    "nlb_data_path = '.../000129/sub-Indy' # your path here\n",
    "\n",
    "model_type = 'lstm'      # (this should always be lstm for now)\n",
    "\n",
    "# which percent channels to prune\n",
    "prune_fracs = [0, 0.25, 0.5, 0.6, 0.7, 0.8, 0.9, 0.95, 0.98]\n",
    "\n",
    "verbose_train = False"
   ]
  },
  {
   "cell_type": "markdown",
   "metadata": {},
   "source": [
    "Load data, create model, train, prune, and test"
   ]
  },
  {
   "cell_type": "code",
   "execution_count": 3,
   "metadata": {},
   "outputs": [
    {
     "name": "stdout",
     "output_type": "stream",
     "text": [
      "Train: (14193, 130) (14193, 4)\n",
      "Val: (2027, 130) (2027, 4)\n",
      "Test: (4056, 130) (4056, 4)\n"
     ]
    }
   ],
   "source": [
    "# get config\n",
    "if model_type == 'lstm':\n",
    "    cfg = config.Config().add_config([config.default_cfg_data, config.cfg_lstm_nlb]) \n",
    "else:\n",
    "    raise ValueError(\"Invalid model type\")\n",
    "\n",
    "loss_fn = torch.nn.MSELoss()\n",
    "\n",
    "# load data\n",
    "num_inputs = 130\n",
    "num_outputs = 4\n",
    "loader_train, loader_val, loader_test = data_loading.load_nlb(\n",
    "    nlb_dataset_path=nlb_data_path,\n",
    "    binsize_ms=cfg.binsize_ms,\n",
    "    seq_len=cfg.hist_bins,\n",
    "    batch_size=cfg.batch_size,\n",
    "    train_val_test=cfg.train_val_test_split,\n",
    "    pred_type=cfg.pred_type,\n",
    "    normalize_x=cfg.normalize_x,\n",
    "    normalize_y=cfg.normalize_y\n",
    ")"
   ]
  },
  {
   "cell_type": "code",
   "execution_count": 5,
   "metadata": {},
   "outputs": [
    {
     "name": "stdout",
     "output_type": "stream",
     "text": [
      "\n",
      "Dropping 0% iteratively...\n",
      "\n",
      "Test corr: [0.80026903 0.86921886 0.88480501 0.87419533], Test MSE: 0.28069302439689636\n",
      "\n",
      "Dropping 25.0% iteratively...\n",
      "\n",
      "Test corr: [0.81091163 0.86537457 0.88519137 0.87221517], Test MSE: 0.286040335893631\n",
      "\n",
      "Dropping 50.0% iteratively...\n",
      "\n",
      "Test corr: [0.80119064 0.83944504 0.88154763 0.86534161], Test MSE: 0.3289065361022949\n",
      "\n",
      "Dropping 60.0% iteratively...\n",
      "\n",
      "Test corr: [0.79161688 0.83963927 0.862131   0.85971259], Test MSE: 0.32486629486083984\n",
      "\n",
      "Dropping 70.0% iteratively...\n",
      "\n",
      "Test corr: [0.78267835 0.82039316 0.87353817 0.8476645 ], Test MSE: 0.32427674531936646\n",
      "\n",
      "Dropping 80.0% iteratively...\n",
      "\n",
      "Test corr: [0.73721088 0.76685482 0.8157864  0.83716769], Test MSE: 0.39838331937789917\n",
      "\n",
      "Dropping 90.0% iteratively...\n",
      "\n",
      "Test corr: [0.6271943  0.70702219 0.75324516 0.77699451], Test MSE: 0.5288600921630859\n",
      "\n",
      "Dropping 95.0% iteratively...\n",
      "\n",
      "Test corr: [0.5670664  0.62515503 0.69569843 0.57542957], Test MSE: 0.7051784992218018\n",
      "\n",
      "Dropping 98.0% iteratively...\n",
      "\n",
      "Test corr: [0.46142763 0.4461775  0.4667237  0.39956807], Test MSE: 0.9370282888412476\n"
     ]
    }
   ],
   "source": [
    "resultsdflist = []\n",
    "\n",
    "\n",
    "for prune_frac in prune_fracs:\n",
    "    print(f'\\nDropping {prune_frac*100}% iteratively...\\n')    \n",
    "\n",
    "    # create model\n",
    "    if model_type == 'tcn':\n",
    "        model = models.TCN(num_inputs, cfg.hist_bins, cfg.conv_num_filts, cfg.layer_size_list, num_outputs, cfg.dropout_p)\n",
    "    elif model_type == 'lstm':\n",
    "        model = models.RNN(num_inputs, cfg.hidden_size, num_outputs, cfg.num_layers, \n",
    "                            rnn_type='lstm', drop_prob=cfg.dropout_p, dropout_input=0, device=device)\n",
    "    elif model_type == 'rnn':\n",
    "        model = models.RNN(num_inputs, cfg.hidden_size, num_outputs, cfg.num_layers, \n",
    "                            rnn_type='rnn', drop_prob=cfg.dropout_p, dropout_input=0, device=device)\n",
    "    model.to(device=device)\n",
    "\n",
    "    # wrap model with a channel selection layer\n",
    "    model = channelselect.ChannelSelectWrapper(model, num_inputs).to(device)\n",
    "\n",
    "    # set up optimizer\n",
    "    optimizer = optim.Adam(model.parameters(), lr=cfg.start_lr, weight_decay=cfg.weight_decay)\n",
    "    lr_scheduler = utils.LinearLRScheduler(optimizer, start_lr=cfg.start_lr, end_lr=cfg.end_lr, num_steps=cfg.num_iters)\n",
    "    if int(prune_frac*num_inputs) > 0:\n",
    "        prune_scheduler = utils.LinearScheduler(0, prune_frac, cfg.iters_before_drop, cfg.iters_to_max_drop)\n",
    "    else:\n",
    "        prune_scheduler = None\n",
    "\n",
    "    # train & drop channels\n",
    "    _, corrs, mses, _ = training.train_chanselect_model(model, loader_train, loader_val, optimizer, lr_scheduler, \n",
    "                                                cfg.num_iters, model.compute_loss, check_every=cfg.check_every, verbose=verbose_train, \n",
    "                                                is_rnn=cfg.is_rnn, prune_scheduler=prune_scheduler, device=device)\n",
    "\n",
    "    # get test performance\n",
    "    model.eval().to(device)\n",
    "    test_corr, test_mse = training.eval_model(model, loader_test, device=device)\n",
    "    y, yhat = training.run_model_forward(model, loader_test, device=device)\n",
    "\n",
    "    # get test performance\n",
    "    model.eval()\n",
    "    test_corr, test_mse = training.eval_model(model, loader_test, device=device)\n",
    "    print(f'Test corr: {test_corr}, Test MSE: {test_mse}')\n",
    "\n",
    "    # save\n",
    "    num_dropped = model.get_num_dropped_chans()\n",
    "    drop_frac = num_dropped / num_inputs\n",
    "    thisresult = {\n",
    "        'num_dropped': [num_dropped],\n",
    "        'actual_drop_frac': [drop_frac],\n",
    "        'desired_drop_frac': [prune_frac],\n",
    "        'num_active_chans': [num_inputs - num_dropped],\n",
    "        'corr': [test_corr],\n",
    "        'avgcorr': [np.mean(test_corr)],\n",
    "        'mse': [test_mse],\n",
    "        'model_type': [model_type],\n",
    "    }\n",
    "    resultsdflist.append(pd.DataFrame(thisresult))\n",
    "\n",
    "resultsdf = pd.concat(resultsdflist)"
   ]
  },
  {
   "cell_type": "markdown",
   "metadata": {},
   "source": [
    "Plot MSE vs number of parameters"
   ]
  },
  {
   "cell_type": "code",
   "execution_count": 7,
   "metadata": {},
   "outputs": [
    {
     "data": {
      "image/png": "[encoded data removed]",
      "text/plain": [
       "<Figure size 640x480 with 1 Axes>"
      ]
     },
     "metadata": {},
     "output_type": "display_data"
    }
   ],
   "source": [
    "\n",
    "errbar = 'se'\n",
    "kwargs = {'alpha': 0.8, 'marker': 'o', 'markersize': 4, 'linewidth': 1.5, 'markeredgewidth': 0}\n",
    "\n",
    "xvar = 'num_active_chans'\n",
    "yvar = 'avgcorr'\n",
    "\n",
    "sns.lineplot(data=resultsdf, x=xvar, y=yvar, errorbar=errbar, **kwargs)\n",
    "\n",
    "# plt.xscale('log')\n",
    "plt.ylim([0, 1.0])\n",
    "plt.ylabel('  Correlation →', fontweight='bold')\n",
    "plt.xlabel('Number of Active Channels', fontweight='bold')\n",
    "plt.show()"
   ]
  }
 ],
 "metadata": {
  "kernelspec": {
   "display_name": "bmi_dec2022",
   "language": "python",
   "name": "python3"
  },
  "language_info": {
   "codemirror_mode": {
    "name": "ipython",
    "version": 3
   },
   "file_extension": ".py",
   "mimetype": "text/x-python",
   "name": "python",
   "nbconvert_exporter": "python",
   "pygments_lexer": "ipython3",
   "version": "3.9.15"
  }
 },
 "nbformat": 4,
 "nbformat_minor": 2
}
